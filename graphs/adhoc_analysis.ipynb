{
 "cells": [
  {
   "cell_type": "code",
   "execution_count": null,
   "id": "9c89a061",
   "metadata": {},
   "outputs": [],
   "source": [
    "import sqlite3\n",
    "import pandas as pd\n",
    "import mathplotlib.pyplot as plt"
   ]
  },
  {
   "cell_type": "code",
   "execution_count": null,
   "id": "1f7e7639",
   "metadata": {},
   "outputs": [],
   "source": [
    "db_path = \"data_sets/all_data.db\"\n",
    "table_name = \"financial_data\"\n",
    "date_col = \"Data\"\n",
    "y_col = \"Y\""
   ]
  },
  {
   "cell_type": "code",
   "execution_count": null,
   "id": "a8832433",
   "metadata": {},
   "outputs": [],
   "source": [
    "def load_data(column_to_test):\n",
    "    connection = sqlite3.connect(db_path)\n",
    "    query = f\"\"\"\n",
    "        SELECT {date_col}, {y_col}, {column_to_test}\n",
    "        FROM {table_name}\n",
    "    \"\"\"\n",
    "    df = pd.read_sql_query(query, connection, parse_dates=[date_col])\n",
    "    connection.close()\n",
    "    return df"
   ]
  }
 ],
 "metadata": {
  "language_info": {
   "name": "python"
  }
 },
 "nbformat": 4,
 "nbformat_minor": 5
}
